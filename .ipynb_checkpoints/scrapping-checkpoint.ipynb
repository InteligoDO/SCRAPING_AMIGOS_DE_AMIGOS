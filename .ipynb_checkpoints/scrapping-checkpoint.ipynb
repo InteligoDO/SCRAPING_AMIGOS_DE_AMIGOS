{
 "cells": [
  {
   "cell_type": "markdown",
   "metadata": {},
   "source": [
    "### Librerias a usar"
   ]
  },
  {
   "cell_type": "code",
   "execution_count": 28,
   "metadata": {},
   "outputs": [],
   "source": [
    "import pandas as pd\n",
    "\n",
    "import math\n",
    "import re, os, csv, sys, time, fnmatch, shutil\n",
    "from os import chdir, getcwd, path\n",
    "import json, random, argparse\n",
    "import io, pickle, codecs\n",
    "import networkx as nx, builtins\n",
    "from shutil import copyfile\n",
    "import time\n",
    "\n",
    "from selenium import webdriver\n",
    "from selenium.webdriver.common.keys import Keys\n",
    "from selenium.webdriver.firefox.options import Options\n",
    "from selenium.common.exceptions import TimeoutException, NoSuchElementException"
   ]
  },
  {
   "cell_type": "code",
   "execution_count": 29,
   "metadata": {},
   "outputs": [],
   "source": [
    "amigos_iteracion = 80 # Cuántos \"amigos\" por cada iteración\n",
    "pausa_cambios = 55 # Minutos pausados para cambiar de usuario y no se bloqueen los perfiles de facebook"
   ]
  },
  {
   "cell_type": "markdown",
   "metadata": {},
   "source": [
    "#### Funciones para scrapear en facebook"
   ]
  },
  {
   "cell_type": "code",
   "execution_count": 30,
   "metadata": {},
   "outputs": [],
   "source": [
    "# pausa por cada amigo\n",
    "def pause(min=2,max=5):\n",
    "    return round(random.uniform(min,max),1)"
   ]
  },
  {
   "cell_type": "code",
   "execution_count": 31,
   "metadata": {},
   "outputs": [],
   "source": [
    "# login\n",
    "def do_login(driver,usr,pwd):\n",
    "    driver.get('https://www.facebook.com')\n",
    "    try:\n",
    "        elem = driver.find_element_by_id('email')\n",
    "        elem.send_keys(usr)\n",
    "        elem = driver.find_element_by_id('pass')\n",
    "        elem.send_keys(pwd)\n",
    "    except NoSuchElementException:\n",
    "        elem = driver.find_element_by_name('email')\n",
    "        elem.send_keys(usr)\n",
    "        elem = driver.find_element_by_name('pass')\n",
    "        elem.send_keys(pwd)\n",
    "    except Exception as ex:\n",
    "        print('[!] Error:')\n",
    "        print(ex)\n",
    "        sys.exit(0)\n",
    "    elem.send_keys(Keys.RETURN)\n",
    "    time.sleep(pause(5,8))"
   ]
  },
  {
   "cell_type": "code",
   "execution_count": 32,
   "metadata": {},
   "outputs": [],
   "source": [
    "# obtiene información del target\n",
    "def get_target_info_new(target,driver):\n",
    "    driver.get('https://www.facebook.com/%s' % target)\n",
    "    time.sleep(pause())\n",
    "    try:\n",
    "        name = driver.find_element_by_xpath(\"//h1[@class='gmql0nx0 l94mrbxd p1ri9a11 lzcic4wl bp9cbjyn j83agx80']\").text\n",
    "    except:\n",
    "        try:\n",
    "            name = re.findall('<title>([^\"]+)</title>',driver.page_source)[0]\n",
    "        except:\n",
    "            name = 'TARGET'\n",
    "    return [name,driver.current_url]"
   ]
  },
  {
   "cell_type": "code",
   "execution_count": 33,
   "metadata": {},
   "outputs": [],
   "source": [
    "# busca amigos en común y devuelve lista friends con id, nombre y url.\n",
    "def get_friends(driver,usr1,usr2,url='https://www.facebook.com/browse/mutual_friends/?uid=%s&node=%s'):\n",
    "    friends = []\n",
    "    final_url = url % (usr1,usr2)\n",
    "    # intentos\n",
    "    attempts = 0\n",
    "    while attempts < 5:\n",
    "        try:\n",
    "            driver.get(final_url)\n",
    "            break\n",
    "        except TimeoutException as ex:\n",
    "            print('[!] TimeoutException. Attempt #%d' % attempts)\n",
    "            attempts +=1\n",
    "            pause(attempts*10,attempts*10)\n",
    "\n",
    "    last_height = driver.execute_script(\"return document.body.scrollHeight\")\n",
    "    while True:\n",
    "        driver.execute_script(\"window.scrollTo(0, document.body.scrollHeight);\")\n",
    "        new_height = driver.execute_script(\"return document.body.scrollHeight\")\n",
    "        if new_height == last_height:\n",
    "            break\n",
    "        last_height = new_height\n",
    "        time.sleep(pause(1,2))\n",
    "    \n",
    "    try:\n",
    "        users = driver.find_elements_by_css_selector(\"div[class='fsl fwb fcb']\")\n",
    "        if len(users) == 0:\n",
    "            friend = {}\n",
    "            friend['name'] = []\n",
    "            friend['id'] = []\n",
    "            friend['url'] = []\n",
    "            friends.append(friend)\n",
    "        else:\n",
    "            for user in users:\n",
    "                s = user.get_attribute('innerHTML')\n",
    "                try:\n",
    "                    uid = re.findall('/ajax/hovercard/user.php\\?id=([0-9]*)(?:\"|&amp;)',s)\n",
    "                    url = re.findall('href=[\\'\"]?([^\\'\" >]+)',s)\n",
    "                    name = re.findall('>[.*]?([^<]+)',s)\n",
    "                except:\n",
    "                    print('[!] Error! Cannot read data from HTML page')\n",
    "                    continue\n",
    "                friend = {}\n",
    "                try:\n",
    "                    friend['name'] = name[0].encode(\"utf-8\", errors=\"replace\").decode(\"utf-8\", errors=\"replace\")\n",
    "                except:\n",
    "                    friend['name'] = 'decoding error'\n",
    "                friend['id'] = int(uid[0])\n",
    "                friend['url'] = re.sub('(\\?|\\&amp.+)fref.*','',url[0])\n",
    "                friends.append(friend)\n",
    "\n",
    "    except Exception as ex:\n",
    "        print('[!] Error! %s' % ex)\n",
    "        raise\n",
    "    \n",
    "    return friends"
   ]
  },
  {
   "cell_type": "code",
   "execution_count": 34,
   "metadata": {},
   "outputs": [],
   "source": [
    "# Obteniendo amigos de calificado o clientes desde los apóstoles scrapeados\n",
    "def get_friends_calf_apost(id_target,apostoles_list,driver):\n",
    "    friends_with_calf_apost = []\n",
    "    counter = 0\n",
    "    # Inicia contador interno de iteración\n",
    "    for idP in apostoles_list:\n",
    "        time.sleep(pause())\n",
    "        counter+=1\n",
    "        if counter == amigos_iteracion:\n",
    "            print('Pausa por 55 minutos')\n",
    "            print(time.strftime(\"%H:%M:%S\"))\n",
    "            time.sleep(pausa_cambios * 60)\n",
    "            counter = 0\n",
    "#         count_new = count_old = 0\n",
    "        friends_in_comun = get_friends(driver, id_target,idP)\n",
    "        friends_in_comun_df = pd.DataFrame(friends_in_comun)\n",
    "        friend= {}\n",
    "        friend['id_Calf'] = id_target\n",
    "        friend['name_Calf'] = name_target\n",
    "        friend['type_Calf'] = type_target\n",
    "        friend['id_Apost'] = idP\n",
    "        friend['ids_friends'] = friends_in_comun_df['id'].tolist()\n",
    "        friend['names_friends'] = friends_in_comun_df['name'].tolist()\n",
    "        friend['urls_friends'] = friends_in_comun_df['url'].tolist()\n",
    "        friends_with_calf_apost.append(friend)\n",
    "    driver.close()\n",
    "    return friends_with_calf_apost"
   ]
  },
  {
   "cell_type": "markdown",
   "metadata": {},
   "source": [
    "#### obteniendo la lista de apostoles"
   ]
  },
  {
   "cell_type": "code",
   "execution_count": 35,
   "metadata": {},
   "outputs": [],
   "source": [
    "file_name =  'Apostoles_LCM.xlsx'\n",
    "df_apostoles = pd.read_excel(io=file_name)"
   ]
  },
  {
   "cell_type": "code",
   "execution_count": 36,
   "metadata": {},
   "outputs": [],
   "source": [
    "df_apostoles = df_apostoles[df_apostoles['amigos grafo']> 50]\n",
    "df_apostoles['facebook id'] = df_apostoles['facebook id'].astype(str)"
   ]
  },
  {
   "cell_type": "code",
   "execution_count": 37,
   "metadata": {},
   "outputs": [],
   "source": [
    "apostoles_list = df_apostoles['facebook id'].tolist()"
   ]
  },
  {
   "cell_type": "code",
   "execution_count": 1,
   "metadata": {},
   "outputs": [],
   "source": [
    "len(apostoles_list)"
   ]
  },
  {
   "cell_type": "markdown",
   "metadata": {},
   "source": [
    "#### Obteniendo persona a scrapear"
   ]
  },
  {
   "cell_type": "code",
   "execution_count": 41,
   "metadata": {},
   "outputs": [],
   "source": [
    "file_name_to_scrapping =  'calificados_clientes.xlsx'\n",
    "df_lista_a_scrapear = pd.read_excel(io=file_name_to_scrapping)"
   ]
  },
  {
   "cell_type": "code",
   "execution_count": 42,
   "metadata": {},
   "outputs": [],
   "source": [
    "# función que establece el tipo de contacto\n",
    "def set_type(ESTADO,potencial):\n",
    "    type_potencial = ''\n",
    "    if ESTADO == 'CLB':\n",
    "        return 'Cliente'\n",
    "    else:\n",
    "        if 'Medio' in potencial:\n",
    "            type_potencial = 'Medio'\n",
    "        elif 'Muy Alto' in potencial:\n",
    "            type_potencial = 'Muy Alto'\n",
    "        elif 'Alto' in potencial:\n",
    "            type_potencial = 'Alto'\n",
    "        return type_potencial"
   ]
  },
  {
   "cell_type": "code",
   "execution_count": 43,
   "metadata": {},
   "outputs": [],
   "source": [
    "df_lista_a_scrapear['TIPO'] = df_lista_a_scrapear.apply(lambda x: set_type(x['ESTADO'],x['POTENCIAL']), axis=1)"
   ]
  },
  {
   "cell_type": "markdown",
   "metadata": {},
   "source": [
    "###### Repetir proceso desde acá"
   ]
  },
  {
   "cell_type": "code",
   "execution_count": 45,
   "metadata": {},
   "outputs": [],
   "source": [
    "# cuentas de facebook para scrapear\n",
    "\n",
    "# usr = 'email1'\n",
    "# pwd = 'pwd1'\n",
    "# usr = 'email2'\n",
    "# pwd = 'pwd2'\n",
    "# usr = 'email3'\n",
    "# pwd = 'pwd3'\n",
    "# usr = 'email4'\n",
    "# pwd = 'pwd4'"
   ]
  },
  {
   "cell_type": "code",
   "execution_count": 46,
   "metadata": {},
   "outputs": [],
   "source": [
    "# al iniciar el valor se setea en 0, ir cambiando agregando uno al valor actual\n",
    "start_scraping = 0"
   ]
  },
  {
   "cell_type": "code",
   "execution_count": 47,
   "metadata": {},
   "outputs": [
    {
     "name": "stdout",
     "output_type": "stream",
     "text": [
      "\n",
      "Son 43 personas a scrapear, vas scrapeando 11\n"
     ]
    }
   ],
   "source": [
    "print('\\nSon %d personas a scrapear, vas scrapeando %d' % ((len(df_lista_a_scrapear)),start_scraping+1 ))"
   ]
  },
  {
   "cell_type": "code",
   "execution_count": 48,
   "metadata": {},
   "outputs": [
    {
     "name": "stdout",
     "output_type": "stream",
     "text": [
      "702745301\n",
      "\n",
      "\n",
      "LANATA WATSON GABRIEL JORGE EUGE\n",
      "\n",
      "\n",
      "Muy Alto\n"
     ]
    }
   ],
   "source": [
    "id_target = df_lista_a_scrapear.PROSPECTO_ID_FB[start_scraping]\n",
    "name_target = df_lista_a_scrapear.NOMBRE1[start_scraping]\n",
    "type_target = df_lista_a_scrapear.TIPO[start_scraping]\n",
    "print(id_target)\n",
    "print('\\n')\n",
    "print(name_target)\n",
    "print('\\n')\n",
    "print(type_target)"
   ]
  },
  {
   "cell_type": "code",
   "execution_count": 49,
   "metadata": {},
   "outputs": [
    {
     "name": "stdout",
     "output_type": "stream",
     "text": [
      "\n",
      "Fetching friends of target user \"Gabriel Lanata\" (702745301)...... correo: \"montenegroalonso455@gmail.com\"...\n",
      "\n",
      "\n",
      "\n",
      "21:05:34\n",
      "\n",
      "Fin!!! Se agregaron los amigos en común a cada apostol\n"
     ]
    }
   ],
   "source": [
    "# primera iteración encontrando amigos de amigos\n",
    "\n",
    "# Archivo csv de amigos\n",
    "csv_file_path = '%d-amigos_con_apostoles.csv' % id_target\n",
    "csv_file_path_grouped = '%d-amigos_agrupados.csv' % id_target\n",
    "\n",
    "# Seteo inicial\n",
    "options = Options()\n",
    "driver = webdriver.Firefox(options=options)\n",
    "start = time.time()\n",
    "\n",
    "# Login\n",
    "do_login(driver,usr,pwd)\n",
    "\n",
    "# Ejecución de funciones\n",
    "target_name,target_url = get_target_info_new(id_target,driver)\n",
    "    \n",
    "nombre_fb = target_name\n",
    "print('\\nFetching friends of target user \"%s\" (%d)...... correo: \"%s\"...\\n' % (nombre_fb, id_target,usr))\n",
    "\n",
    "friends = get_friends_calf_apost(id_target,apostoles_list,driver)\n",
    "df_friends_in_comun_cal_apost = pd.DataFrame(friends)\n",
    "df_friends_in_comun_cal_apost.to_csv(csv_file_path,  index=False)\n",
    "\n",
    "print('\\n')\n",
    "print(time.strftime(\"%H:%M:%S\"))\n",
    "print('\\nFin!!! Se agregaron los amigos en común a cada apostol')"
   ]
  },
  {
   "cell_type": "code",
   "execution_count": 50,
   "metadata": {},
   "outputs": [],
   "source": [
    "aggregation_functions = {'id_Calf': 'first', 'name_Calf': 'first', 'type_Calf': 'first','id_Apost': 'sum', 'ids_friends': 'sum', \n",
    "                         'names_friends': 'sum', 'urls_friends': 'sum'}\n",
    "# uniendo df a una sola fila\n",
    "new_df_friends = df_friends_in_comun_cal_apost.groupby(df_friends_in_comun_cal_apost['id_Calf']).aggregate(aggregation_functions)\n",
    "new_df_friends = new_df_friends.reset_index(drop=True)\n",
    "\n",
    "#rename \n",
    "new_df_friends.rename(columns={'id_Calf':'id_Cal'}, inplace = True)\n",
    "\n",
    "# eliminando columna que contiene ids de los apóstoles\n",
    "new_df_friends.drop(['id_Apost'], axis='columns', inplace=True)\n",
    "\n",
    "new_df_friends.to_csv(csv_file_path_grouped, index=False)"
   ]
  },
  {
   "cell_type": "code",
   "execution_count": 51,
   "metadata": {},
   "outputs": [],
   "source": [
    "# crear carpeta del target\n",
    "def create_folder(folder):\n",
    "    if not os.path.exists(folder):\n",
    "        os.mkdir(folder)\n",
    "\n",
    "nombre_carpeta = '%s (id %d)' % (nombre_fb, id_target)\n",
    "create_folder(nombre_carpeta)"
   ]
  },
  {
   "cell_type": "code",
   "execution_count": 52,
   "metadata": {},
   "outputs": [],
   "source": [
    "# listado de archivos a mover\n",
    "lista_total = list(os.listdir('.'))\n",
    "extension1 = str(id_target) + '-*'\n",
    "lista_final = pd.DataFrame(data=None,columns=['nombre'])\n",
    "for archivo in lista_total:\n",
    "    if fnmatch.fnmatch(archivo, extension1):\n",
    "        new_entry = {'nombre': archivo}\n",
    "        lista_final.loc[len(lista_final)] = new_entry"
   ]
  },
  {
   "cell_type": "code",
   "execution_count": 53,
   "metadata": {},
   "outputs": [],
   "source": [
    "# mover los files a su carpeta respectiva y crear una copia del archivo que contienen los ids en \n",
    "# una sola fila y mover la copia a carpeta que contiene el file de todos los calificados ya scrapeados \n",
    "# llamada amigos_calificados\n",
    "for i in range(len(lista_final)):\n",
    "    if 'agrupados' in lista_final.loc[i,'nombre']:\n",
    "        copyfile(lista_final.loc[i,'nombre'], 'amigos_calificados/'+'todos-'+nombre_carpeta+'.csv')\n",
    "    origen = lista_final.loc[i,'nombre']\n",
    "    destino = nombre_carpeta + \"/\" + origen\n",
    "    shutil.move(origen, destino)"
   ]
  },
  {
   "cell_type": "code",
   "execution_count": 54,
   "metadata": {},
   "outputs": [
    {
     "data": {
      "text/plain": [
       "'personas_scrapeadas\\\\Gabriel Lanata (id 702745301)'"
      ]
     },
     "execution_count": 54,
     "metadata": {},
     "output_type": "execute_result"
    }
   ],
   "source": [
    "# mover carpeta del target a carpeta personas_scrapeadas\n",
    "original = nombre_carpeta\n",
    "target = 'personas_scrapeadas'\n",
    "shutil.move(original,target)"
   ]
  }
 ],
 "metadata": {
  "kernelspec": {
   "display_name": "Python 3",
   "language": "python",
   "name": "python3"
  },
  "language_info": {
   "codemirror_mode": {
    "name": "ipython",
    "version": 3
   },
   "file_extension": ".py",
   "mimetype": "text/x-python",
   "name": "python",
   "nbconvert_exporter": "python",
   "pygments_lexer": "ipython3",
   "version": "3.7.6"
  }
 },
 "nbformat": 4,
 "nbformat_minor": 4
}
