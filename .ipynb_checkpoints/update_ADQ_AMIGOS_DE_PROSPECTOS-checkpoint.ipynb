{
 "cells": [
  {
   "cell_type": "code",
   "execution_count": 2,
   "metadata": {},
   "outputs": [
    {
     "data": {
      "text/html": [
       "<style>.container { width:95% !important; }</style>"
      ],
      "text/plain": [
       "<IPython.core.display.HTML object>"
      ]
     },
     "metadata": {},
     "output_type": "display_data"
    }
   ],
   "source": [
    "import pandas as pd\n",
    "import numpy as np \n",
    "\n",
    "import math\n",
    "import re, os, csv, sys, time, fnmatch, shutil, glob\n",
    "from os import listdir\n",
    "from os.path import isfile, join\n",
    "from os import chdir, getcwd, path\n",
    "import json, random, argparse\n",
    "import io, pickle, codecs\n",
    "import networkx as nx, builtins\n",
    "from shutil import copyfile\n",
    "from operator import itemgetter\n",
    "from more_itertools import unique_everseen\n",
    "import ast\n",
    "from collections import Counter\n",
    "from IPython.core.display import display, HTML\n",
    "display(HTML(\"<style>.container { width:95% !important; }</style>\"))\n",
    "import pyodbc\n",
    "from datetime import datetime"
   ]
  },
  {
   "cell_type": "code",
   "execution_count": 3,
   "metadata": {},
   "outputs": [],
   "source": [
    "file_name =  'libro20.xlsx'\n",
    "df_todos_dnis = pd.read_excel(io=file_name)"
   ]
  },
  {
   "cell_type": "code",
   "execution_count": 4,
   "metadata": {},
   "outputs": [],
   "source": [
    "usuario = 'acabrera'"
   ]
  },
  {
   "cell_type": "code",
   "execution_count": 5,
   "metadata": {},
   "outputs": [],
   "source": [
    "# dataframe de no calificados - libres\n",
    "\n",
    "# df_no_calificados = df_todos_dnis.loc[((df_todos_dnis['STATUS']=='LIBRE') & \n",
    "#                                        (df_todos_dnis['POTENCIAL BANK']== '-')) &\n",
    "#                                       (df_todos_dnis['BLACKLIST'] != 'BLACKLIST')\n",
    "#                                      ]\n",
    "\n",
    "\n",
    "# (cambio - Talia) dataframe de libres - calificados y no calificados\n",
    "\n",
    "# df_no_calificados = df_todos_dnis.loc[((((df_todos_dnis['ESTADO']=='LIBRE')| (df_todos_dnis['ESTADO']=='PROSPRESERV')) & (\n",
    "#                                         df_todos_dnis['POTENCIAL'].isin(['Muy Alto  (> USD 5 ’ 000,000)',\n",
    "#                                         'Alto  (USD 1 ’ 000,000 - 5 ’ 000,000)',\n",
    "#                                         'Medio  (USD  500,000 - 1 ’ 000,000)', 'NA']) | df_todos_dnis['POTENCIAL'].isnull())) & \n",
    "#                                       (df_todos_dnis['BLACKLIST'] != 'BLACKLIST'))\n",
    "#                                      ]\n",
    "\n",
    "# (cambio - Paolo) de 11/03/2021 se agrega los de blacklist solo para ver cuántos amigos tiene.\n",
    "\n",
    "df_no_calificados = df_todos_dnis.loc[((((df_todos_dnis['ESTADO']=='LIBRE')| (df_todos_dnis['ESTADO']=='PROSPRESERV')) & (\n",
    "                                        df_todos_dnis['POTENCIAL'].isin(['Muy Alto  (> USD 5 ’ 000,000)',\n",
    "                                        'Alto  (USD 1 ’ 000,000 - 5 ’ 000,000)',\n",
    "                                        'Medio  (USD  500,000 - 1 ’ 000,000)', 'NA']) | df_todos_dnis['POTENCIAL'].isnull())))\n",
    "                                     ]"
   ]
  },
  {
   "cell_type": "code",
   "execution_count": 6,
   "metadata": {},
   "outputs": [],
   "source": [
    "# obteniendo amigos de la carpeta calificados - personas ya scrapeadas en todas las olas\n",
    "lista_total = list(os.listdir('.'))\n",
    "path_dir = 'amigos_calificados/'\n",
    "# lista_final = pd.DataFrame(data=None,columns=['nombre'])\n",
    "calificados_lista_dfs = []\n",
    "# obteniendo lista de los files\n",
    "lista_final = [f for f in listdir(path_dir) if isfile(join(path_dir, f))]\n",
    "for archivo in lista_final:\n",
    "    df = pd.read_csv(path_dir+archivo, converters={'ids_friends': eval, 'names_friends': eval, \n",
    "                                                   'urls_friends': eval})\n",
    "    calificados_lista_dfs.append(df)"
   ]
  },
  {
   "cell_type": "code",
   "execution_count": null,
   "metadata": {},
   "outputs": [],
   "source": [
    "# df_amigos_calificados = pd.concat(calificados_lista_dfs, axis=0, ignore_index=True)\n",
    "# df_amigos_calificados.info()"
   ]
  },
  {
   "cell_type": "code",
   "execution_count": 8,
   "metadata": {},
   "outputs": [],
   "source": [
    "# ids de no calificados\n",
    "# nueva dataframe de no calificados con amigos en comun con los calificados\n",
    "\n",
    "newdf = {'ID': [], 'ids_amigos_calificados': [], 'nombres_amigos_calificados': [], \n",
    "         'urls_amigos_calificados': []}\n",
    "lista_id_no_calificado = []\n",
    "lista_ids_amigos_calificados = []\n",
    "lista_nombres_amigos_calificados= []\n",
    "lista_tipos_amigos_calificados = []\n",
    "\n",
    "# df_no_calificados.ID\n",
    "# se recorre id de los 6000 no calificados\n",
    "for index, value in enumerate(df_no_calificados.PROSPECTO_ID_FB): \n",
    "    lista_id_no_calificado.append(value)\n",
    "    listade_ids_calificados = []\n",
    "    listade_nombres_calificados = []\n",
    "    listade_tipos_calificados = []\n",
    "    # se recorre id de los 221 calificados que contienen info de sus amigos\n",
    "    for index, idCall in enumerate(df_amigos_calificados.id_Cal):\n",
    "        list_ids = df_amigos_calificados.iloc[index]['ids_friends']\n",
    "        if value in list_ids: #encontrando id en la lista de amigos P\n",
    "            listade_ids_calificados.append(df_amigos_calificados.iloc[index]['id_Cal'])\n",
    "            listade_nombres_calificados.append(df_amigos_calificados.iloc[index]['name_Calf'])\n",
    "            listade_tipos_calificados.append(df_amigos_calificados.iloc[index]['type_Calf'])\n",
    "    lista_ids_amigos_calificados.append(listade_ids_calificados)\n",
    "    lista_nombres_amigos_calificados.append(listade_nombres_calificados)\n",
    "    lista_tipos_amigos_calificados.append(listade_tipos_calificados)"
   ]
  },
  {
   "cell_type": "code",
   "execution_count": 9,
   "metadata": {},
   "outputs": [],
   "source": [
    "df_nocalificados_conamigos_calificados = pd.DataFrame(data={'ID': lista_id_no_calificado, \n",
    "                                                            'ids_calificado': lista_ids_amigos_calificados, \n",
    "                                                            'nombres_calificado': lista_nombres_amigos_calificados,\n",
    "                                                            'tipos_calificado': lista_tipos_amigos_calificados}) "
   ]
  },
  {
   "cell_type": "code",
   "execution_count": 10,
   "metadata": {},
   "outputs": [],
   "source": [
    "# sumar el número de amigos y agregar a nueva columna\n",
    "df_nocalificados_conamigos_calificados['num_amigos']  = df_nocalificados_conamigos_calificados['ids_calificado'].apply(lambda x: len(x))\n",
    "df_nocalificados_conamigos_calificados['amigo_cliente']  = df_nocalificados_conamigos_calificados['tipos_calificado'].apply(lambda x: x.count(\"Cliente\")+x.count(\"Ciente\"))\n",
    "df_nocalificados_conamigos_calificados['cal_medio']  = df_nocalificados_conamigos_calificados['tipos_calificado'].apply(lambda x: x.count(\"Medio\"))\n",
    "df_nocalificados_conamigos_calificados['cal_alto']  = df_nocalificados_conamigos_calificados['tipos_calificado'].apply(lambda x: x.count(\"Alto\"))\n",
    "df_nocalificados_conamigos_calificados['cal_muy_alto']  = df_nocalificados_conamigos_calificados['tipos_calificado'].apply(lambda x: x.count(\"Muy alto\"))"
   ]
  },
  {
   "cell_type": "code",
   "execution_count": 11,
   "metadata": {},
   "outputs": [],
   "source": [
    "df_todos_dnis = df_todos_dnis.rename(columns={'PROSPECTO_ID_FB': 'ID'})"
   ]
  },
  {
   "cell_type": "code",
   "execution_count": 12,
   "metadata": {},
   "outputs": [],
   "source": [
    "merge = pd.merge(df_todos_dnis, df_nocalificados_conamigos_calificados, \n",
    "                  how='left', on=\"ID\")"
   ]
  },
  {
   "cell_type": "code",
   "execution_count": 13,
   "metadata": {},
   "outputs": [],
   "source": [
    "# fix - cambiar valores de Ciente a Cliente\n",
    "def replace_ciente(mylist):\n",
    "    if isinstance(mylist, list):\n",
    "        if 'Ciente' in mylist:\n",
    "            for (i, item) in enumerate(mylist):\n",
    "                if item == 'Ciente':\n",
    "                    mylist[i] = 'Cliente'\n",
    "            return mylist\n",
    "        else:\n",
    "            return mylist\n",
    "    else:\n",
    "        return mylist"
   ]
  },
  {
   "cell_type": "code",
   "execution_count": 14,
   "metadata": {},
   "outputs": [],
   "source": [
    "merge['tipos_calificado'] = merge.apply(lambda x: replace_ciente(x['tipos_calificado']), axis=1)"
   ]
  },
  {
   "cell_type": "code",
   "execution_count": 15,
   "metadata": {},
   "outputs": [],
   "source": [
    "# eliminar DNIS duplicados, se suman los amigos que tenga el mismo DNI pero mas de una cuenat de facebook (Sugerencia Ricardo)\n",
    "df_group =merge.groupby('DNI_PROSPECTO', as_index=False).agg({'NOMBRE1':'first',\n",
    "                                     'ID': 'first',\n",
    "                                     'PROSPECTO_URL_FB': 'first',\n",
    "                                     'PROSPECTO_NOMBRE': 'first',\n",
    "                                     'FECHA_NACIMIENTO': 'first',\n",
    "                                     'EDAD': 'first',\n",
    "                                     'BLACKLIST': 'first',\n",
    "                                     'POTENCIAL': 'first',\n",
    "                                     'ESTADO': 'first',\n",
    "                                     'ids_calificado': 'sum',\n",
    "                                     'nombres_calificado': 'sum',\n",
    "                                     'tipos_calificado': 'sum',\n",
    "                                     'num_amigos': 'sum',\n",
    "                                     'amigo_cliente': 'sum',\n",
    "                                     'cal_medio': 'sum',\n",
    "                                     'cal_alto': 'sum',\n",
    "                                     'cal_muy_alto': 'sum'})"
   ]
  },
  {
   "cell_type": "code",
   "execution_count": 16,
   "metadata": {},
   "outputs": [
    {
     "ename": "OperationalError",
     "evalue": "('08001', '[08001] [Microsoft][ODBC Driver 13 for SQL Server]Named Pipes Provider: Could not open a connection to SQL Server [53].  (53) (SQLDriverConnect); [08001] [Microsoft][ODBC Driver 13 for SQL Server]Login timeout expired (0); [08001] [Microsoft][ODBC Driver 13 for SQL Server]A network-related or instance-specific error has occurred while establishing a connection to SQL Server. Server is not found or not accessible. Check if instance name is correct and if SQL Server is configured to allow remote connections. For more information see SQL Server Books Online. (53)')",
     "output_type": "error",
     "traceback": [
      "\u001b[1;31m---------------------------------------------------------------------------\u001b[0m",
      "\u001b[1;31mOperationalError\u001b[0m                          Traceback (most recent call last)",
      "\u001b[1;32m<ipython-input-16-03e76efd1f71>\u001b[0m in \u001b[0;36m<module>\u001b[1;34m\u001b[0m\n\u001b[0;32m      2\u001b[0m \u001b[1;33m\u001b[0m\u001b[0m\n\u001b[0;32m      3\u001b[0m \u001b[1;31m#obteniendo tabla de consolidados\u001b[0m\u001b[1;33m\u001b[0m\u001b[1;33m\u001b[0m\u001b[1;33m\u001b[0m\u001b[0m\n\u001b[1;32m----> 4\u001b[1;33m \u001b[0mcnxn\u001b[0m \u001b[1;33m=\u001b[0m \u001b[0mpyodbc\u001b[0m\u001b[1;33m.\u001b[0m\u001b[0mconnect\u001b[0m\u001b[1;33m(\u001b[0m\u001b[1;34m'DRIVER={ODBC Driver 13 for SQL Server};SERVER=172.17.6.184;DATABASE=GDI_LIVE;UID=USR_DO;PWD=Inteligo2021'\u001b[0m\u001b[1;33m)\u001b[0m\u001b[1;33m\u001b[0m\u001b[1;33m\u001b[0m\u001b[0m\n\u001b[0m\u001b[0;32m      5\u001b[0m \u001b[0mcursor\u001b[0m \u001b[1;33m=\u001b[0m \u001b[0mcnxn\u001b[0m\u001b[1;33m.\u001b[0m\u001b[0mcursor\u001b[0m\u001b[1;33m(\u001b[0m\u001b[1;33m)\u001b[0m\u001b[1;33m\u001b[0m\u001b[1;33m\u001b[0m\u001b[0m\n\u001b[0;32m      6\u001b[0m tbl_consolidado = ('''SELECT *\n",
      "\u001b[1;31mOperationalError\u001b[0m: ('08001', '[08001] [Microsoft][ODBC Driver 13 for SQL Server]Named Pipes Provider: Could not open a connection to SQL Server [53].  (53) (SQLDriverConnect); [08001] [Microsoft][ODBC Driver 13 for SQL Server]Login timeout expired (0); [08001] [Microsoft][ODBC Driver 13 for SQL Server]A network-related or instance-specific error has occurred while establishing a connection to SQL Server. Server is not found or not accessible. Check if instance name is correct and if SQL Server is configured to allow remote connections. For more information see SQL Server Books Online. (53)')"
     ]
    }
   ],
   "source": [
    "# OBTENIENDO NUMERO DE AMIGOS APOSTOLES DE CADA PERSONA EN EL CONSOLIDADO\n",
    "\n",
    "#obteniendo tabla de consolidados\n",
    "cnxn = pyodbc.connect('DRIVER={ODBC Driver 13 for SQL Server};SERVER=172.17.6.184;DATABASE=GDI_LIVE;UID=USR_DO;PWD=Inteligo2021')\n",
    "cursor = cnxn.cursor()\n",
    "tbl_consolidado = ('''SELECT *\n",
    "                          FROM [GDI_LIVE].[dbo].[ADQ_CONSOLIDADO]''')\n",
    "tbl_consolidado = pd.read_sql(tbl_consolidado, cnxn)"
   ]
  },
  {
   "cell_type": "code",
   "execution_count": null,
   "metadata": {},
   "outputs": [],
   "source": [
    "# numero de amigos apostoles por contacto\n",
    "tbl_conso_group = tbl_consolidado.pivot_table(index = ['id'], aggfunc ='size')"
   ]
  },
  {
   "cell_type": "code",
   "execution_count": null,
   "metadata": {},
   "outputs": [],
   "source": [
    "tbl_conso_group = tbl_conso_group.to_frame()\n",
    "tbl_conso_group = tbl_conso_group.reset_index()\n",
    "tbl_conso_group = tbl_conso_group.rename({'id': 'ID', 0: 'amigo_apostol'}, axis=1)"
   ]
  },
  {
   "cell_type": "code",
   "execution_count": null,
   "metadata": {},
   "outputs": [],
   "source": [
    "# merge para agregar columna de numero de amigos apostoles\n",
    "df_amigos_total = pd.merge(df_group, tbl_conso_group, how=\"left\", on=[\"ID\"])"
   ]
  },
  {
   "cell_type": "code",
   "execution_count": null,
   "metadata": {},
   "outputs": [],
   "source": [
    "# reordenando y rename columnas según formato de tabla ADQ_AMIGOS_DE_PROSPECTOS \n",
    "cols = df_amigos_total.columns.tolist()\n",
    "cols = ['DNI_PROSPECTO', 'NOMBRE1','ID', 'PROSPECTO_URL_FB', 'PROSPECTO_NOMBRE', 'FECHA_NACIMIENTO', 'EDAD', 'BLACKLIST',\n",
    " 'POTENCIAL', 'ESTADO','ids_calificado', 'nombres_calificado',\n",
    " 'tipos_calificado', 'num_amigos', 'amigo_apostol', 'amigo_cliente', 'cal_medio',\n",
    " 'cal_alto', 'cal_muy_alto']"
   ]
  },
  {
   "cell_type": "code",
   "execution_count": null,
   "metadata": {},
   "outputs": [],
   "source": [
    "df_amigos_total = df_amigos_total[cols]\n",
    "df_amigos_total = df_amigos_total.rename(columns={'NOMBRE1': 'NOMBRE_DNI'})"
   ]
  },
  {
   "cell_type": "code",
   "execution_count": null,
   "metadata": {},
   "outputs": [],
   "source": [
    "# functions\n",
    "def no_friends(num, listInfo):\n",
    "    if num == 0:\n",
    "        return '[]'\n",
    "    return listInfo\n",
    "\n",
    "def replaceEmpty(num, listInfo):\n",
    "    if num >0 and listInfo == '[]' :\n",
    "#     if num >0:\n",
    "        return listInfo.replace('[]', '')\n",
    "    return listInfo\n",
    "\n",
    "def replaceTogether(num, listInfo):\n",
    "    if num >0 and listInfo == '][':\n",
    "        return listInfo.replace('][', ', ')\n",
    "    return listInfo\n",
    "\n",
    "def cleanValues(num, idFB, name, typeFriend, numFriends, cliFrd, medioFrd, altoFrd, muyAltoFrd):\n",
    "    if num > 0 and idFB != '':\n",
    "        # quitando los amigos repetidos al sumar todos los amigos de la persona que tiene mas de un facebook\n",
    "        var_idFB = list(idFB)\n",
    "        var_name = list(name)\n",
    "        var_typeFriend = list(typeFriend)\n",
    "        zip_variables = zip(var_idFB, var_name, var_typeFriend)\n",
    "        zip_variables_unique = unique_everseen(zip_variables, key=itemgetter(0))\n",
    "        var_idFB, var_name, var_typeFriend = zip(*zip_variables_unique)\n",
    "        var_idFB = list(idFB)\n",
    "        var_name = list(name)\n",
    "        var_typeFriend = list(typeFriend)\n",
    "        len_typeFriend = len(var_typeFriend)\n",
    "        friend_client = cliFrd\n",
    "        friend_medio = medioFrd\n",
    "        friend_alto = altoFrd\n",
    "        friend_muy_alto = muyAltoFrd\n",
    "        dictTypeFriend = dict(Counter(var_typeFriend))\n",
    "        # asignando número de amigos clientes, muy alto, alto y medio luego de eliminar duplicados\n",
    "        for key, value in dictTypeFriend.items():\n",
    "            if key == 'Cliente':\n",
    "                friend_client = value\n",
    "            elif key == 'Medio':\n",
    "                friend_medio = value\n",
    "            elif key == 'Alto':\n",
    "                friend_alto = value\n",
    "            elif key == 'Muy alto':\n",
    "                friend_muy_alto = value\n",
    "        return (var_idFB, var_name, var_typeFriend, len_typeFriend, friend_client, friend_medio, friend_alto, friend_muy_alto)\n",
    "    return idFB, name, typeFriend, numFriends, cliFrd, medioFrd, altoFrd, muyAltoFrd"
   ]
  },
  {
   "cell_type": "code",
   "execution_count": null,
   "metadata": {},
   "outputs": [],
   "source": [
    "df_amigos_total['ids_calificado'] = df_amigos_total.apply(lambda x: no_friends(x['num_amigos'], \n",
    "                                                              x['ids_calificado']), axis=1)\n",
    "df_amigos_total['nombres_calificado'] = df_amigos_total.apply(lambda x: no_friends(x['num_amigos'], \n",
    "                                                              x['nombres_calificado']), axis=1)\n",
    "df_amigos_total['tipos_calificado'] = df_amigos_total.apply(lambda x: no_friends(x['num_amigos'], \n",
    "                                                              x['tipos_calificado']), axis=1)\n",
    "df_amigos_total['ids_calificado'] = df_amigos_total.apply(lambda x: replaceEmpty(x['num_amigos'], \n",
    "                                                              x['ids_calificado']), axis=1)\n",
    "df_amigos_total['nombres_calificado'] = df_amigos_total.apply(lambda x: replaceEmpty(x['num_amigos'], \n",
    "                                                              x['nombres_calificado']), axis=1)\n",
    "df_amigos_total['tipos_calificado'] = df_amigos_total.apply(lambda x: replaceEmpty(x['num_amigos'], \n",
    "                                                              x['tipos_calificado']), axis=1)\n",
    "df_amigos_total['ids_calificado'] = df_amigos_total.apply(lambda x: replaceTogether(x['num_amigos'], \n",
    "                                                              x['ids_calificado']), axis=1)\n",
    "df_amigos_total['nombres_calificado'] = df_amigos_total.apply(lambda x: replaceTogether(x['num_amigos'], \n",
    "                                                              x['nombres_calificado']), axis=1)\n",
    "df_amigos_total['tipos_calificado'] = df_amigos_total.apply(lambda x: replaceTogether(x['num_amigos'], \n",
    "                                                              x['tipos_calificado']), axis=1)\n",
    "df_amigos_total[['ids_calificado', 'nombres_calificado', 'tipos_calificado','num_amigos', 'amigo_cliente', 'cal_medio', 'cal_alto', 'cal_muy_alto']] = df_amigos_total.apply(lambda x:cleanValues(x['num_amigos'], \n",
    "x['ids_calificado'], x['nombres_calificado'], \n",
    "x['tipos_calificado'],x['num_amigos'], x['amigo_cliente'], \n",
    "x['cal_medio'],x['cal_alto'], x['cal_muy_alto']), axis=1, result_type=\"expand\") "
   ]
  },
  {
   "cell_type": "code",
   "execution_count": null,
   "metadata": {},
   "outputs": [],
   "source": [
    "# actualizando número de amigos en total agregando en número de amisgos apóstoles.\n",
    "df_amigos_total['num_amigos'] = df_amigos_total['amigo_apostol'] + df_amigos_total['amigo_cliente'] + df_amigos_total['cal_medio'] +df_amigos_total['cal_alto'] +df_amigos_total['cal_muy_alto']"
   ]
  },
  {
   "cell_type": "code",
   "execution_count": null,
   "metadata": {},
   "outputs": [],
   "source": [
    "# PREPARAR DF PARA AGREGAR A SQL\n",
    "# agregando columnas de fecha y usuario\n",
    "fecha_actualizacion = datetime.now()\n",
    "df_amigos_total['FECACTUALIZACION'] = fecha_actualizacion\n",
    "df_amigos_total['USUARIO_ACT'] = usuario\n",
    "# convirtiendo a str columnas datetime\n",
    "df_amigos_total['FECHA_NACIMIENTO'] = df_amigos_total['FECHA_NACIMIENTO'].dt.strftime('%Y-%m-%d')\n",
    "df_amigos_total['FECACTUALIZACION'] = df_amigos_total['FECACTUALIZACION'].dt.strftime('%Y-%m-%d %H:%M:%S')\n",
    "df_amigos_total['ids_calificado'] = df_amigos_total.ids_calificado.astype(str)\n",
    "df_amigos_total['nombres_calificado'] = df_amigos_total.nombres_calificado.astype(str)\n",
    "df_amigos_total['tipos_calificado'] = df_amigos_total.tipos_calificado.astype(str)\n",
    "df_amigos_total = df_amigos_total.replace(np.nan, '', regex=True)"
   ]
  },
  {
   "cell_type": "code",
   "execution_count": null,
   "metadata": {},
   "outputs": [],
   "source": [
    "df_amigos_total = df_amigos_total.replace(np.nan, '', regex=True)\n",
    "df_amigos_total = df_amigos_total.replace(r\"([\\w]+['][\\w]+)\", \"-\", regex=True)\n",
    "df_amigos_total = df_amigos_total.replace(\"'\", '\"', regex=True)"
   ]
  },
  {
   "cell_type": "code",
   "execution_count": null,
   "metadata": {},
   "outputs": [],
   "source": [
    "# truncar tb ADQ_AMIGOS_DE_PROSPECTOS\n",
    "cnxn = pyodbc.connect('DRIVER={ODBC Driver 13 for SQL Server};SERVER=172.17.6.184;DATABASE=GDI_LIVE;UID=USR_DO;PWD=Inteligo2021', autocommit=True)\n",
    "cursor = cnxn.cursor()\n",
    "cursor.execute('TRUNCATE table ADQ_AMIGOS_DE_PROSPECTOS')   \n",
    "cnxn.close()"
   ]
  },
  {
   "cell_type": "code",
   "execution_count": null,
   "metadata": {},
   "outputs": [],
   "source": [
    "cnxn = pyodbc.connect('DRIVER={ODBC Driver 13 for SQL Server};SERVER=172.17.6.184;DATABASE=GDI_LIVE;UID=USR_DO;PWD=Inteligo2021', autocommit=True)\n",
    "cursor = cnxn.cursor()\n",
    "\n",
    "for row_count in range(0, df_amigos_total.shape[0]):\n",
    "    chunk = df_amigos_total.iloc[row_count:row_count + 1,:].values.tolist()\n",
    "    tuple_of_tuples = tuple(tuple(x) for x in chunk)\n",
    "    cursor.execute(\"INSERT INTO ADQ_AMIGOS_DE_PROSPECTOS values %s\" % tuple_of_tuples)\n",
    "# cursor.close()\n",
    "# conn.close()"
   ]
  },
  {
   "cell_type": "code",
   "execution_count": null,
   "metadata": {},
   "outputs": [],
   "source": [
    "pd.set_option('display.max_colwidth', None)\n",
    "# pd.set_option('display.max_rows', None)"
   ]
  }
 ],
 "metadata": {
  "kernelspec": {
   "display_name": "Python 3",
   "language": "python",
   "name": "python3"
  },
  "language_info": {
   "codemirror_mode": {
    "name": "ipython",
    "version": 3
   },
   "file_extension": ".py",
   "mimetype": "text/x-python",
   "name": "python",
   "nbconvert_exporter": "python",
   "pygments_lexer": "ipython3",
   "version": "3.7.6"
  }
 },
 "nbformat": 4,
 "nbformat_minor": 4
}
