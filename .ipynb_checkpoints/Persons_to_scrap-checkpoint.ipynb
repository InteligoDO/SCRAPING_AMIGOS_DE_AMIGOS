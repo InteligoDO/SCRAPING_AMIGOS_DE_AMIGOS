{
 "cells": [
  {
   "cell_type": "code",
   "execution_count": 1,
   "metadata": {},
   "outputs": [],
   "source": [
    "import pandas as pd\n",
    "import math\n",
    "import re, os, csv, sys, time, fnmatch, shutil\n",
    "from os import chdir, getcwd, path\n",
    "import json, random, argparse\n",
    "import io, pickle, codecs\n",
    "import networkx as nx, builtins\n",
    "from shutil import copyfile\n",
    "import time\n",
    "import pyodbc\n",
    "\n",
    "from selenium import webdriver\n",
    "from selenium.webdriver.common.keys import Keys\n",
    "from selenium.webdriver.firefox.options import Options\n",
    "from selenium.common.exceptions import TimeoutException, NoSuchElementException"
   ]
  },
  {
   "cell_type": "code",
   "execution_count": 2,
   "metadata": {},
   "outputs": [],
   "source": [
    "## obtener info de SP SPI_ADQ_BASE_POT_INFERIDO '##7/SJHSDhjhujhh)'\n",
    "file_name =  'libro20.xlsx'\n",
    "df_todos = pd.read_excel(io=file_name)\n",
    "\n",
    "## obtener info de ya scrapeados de olas y definir el número de la ola actual\n",
    "file_name_scrapeados =  'ya_scrapeados.xlsx'\n",
    "df_scrapeados = pd.read_excel(io=file_name_scrapeados)\n",
    "numero_de_ola = df_scrapeados.OLA.max() + 1\n",
    "\n",
    "## obtener info de APOSTOLES scrapeados\n",
    "file_name_apostoles =  'Apostoles_LCM.xlsx'\n",
    "df_apostoles = pd.read_excel(io=file_name_apostoles)"
   ]
  },
  {
   "cell_type": "code",
   "execution_count": 3,
   "metadata": {},
   "outputs": [],
   "source": [
    "## cambios\n",
    "df_apostoles = df_apostoles.rename({'facebook id': 'PROSPECTO_ID_FB'}, axis=1)\n",
    "df_apostoles = df_apostoles[df_apostoles['amigos grafo']>1]"
   ]
  },
  {
   "cell_type": "code",
   "execution_count": 4,
   "metadata": {},
   "outputs": [],
   "source": [
    "## merge scrapeados y apostoles para no scrapear a ellos\n",
    "df_scrapeados_y_apostoles = pd.merge(df_scrapeados, df_apostoles, how=\"outer\", on=[\"PROSPECTO_ID_FB\"])\n",
    "df_scrapeados_y_apostoles['ya buscados'] = 'si'\n",
    "df_scrapeados_y_apostoles.drop(['Sector', 'Cliente', 'flag', 'Nombre', 'Facebook', 'amigos grafo'], axis=1, inplace=True)"
   ]
  },
  {
   "cell_type": "code",
   "execution_count": 5,
   "metadata": {},
   "outputs": [],
   "source": [
    "## merge df_todos con df_scrapeados_y_apostoles para marcar los ya buscados\n",
    "df_todos_marcados = pd.merge(df_todos, df_scrapeados_y_apostoles, how=\"left\", on=[\"PROSPECTO_ID_FB\"])\n",
    "df_todos_marcados.columns = df_todos_marcados.columns.str.rstrip('_x')\n",
    "df_todos_marcados = df_todos_marcados[df_todos_marcados.columns.drop(list(df_todos_marcados.filter(regex='_y')))]"
   ]
  },
  {
   "cell_type": "code",
   "execution_count": 6,
   "metadata": {},
   "outputs": [],
   "source": [
    "## lista de las personas a scrapear en esta nueva ola\n",
    "df_a_scrapear = df_todos_marcados.loc[(((df_todos_marcados['ESTADO'].isin(['LIBRE',\n",
    "                                                                  'PROSPRESERV'])) &\n",
    "                                   (df_todos_marcados['POTENCIAL'].isin(['Muy Alto  (> USD 5 ’ 000,000)',\n",
    "                                                               'Alto  (USD 1 ’ 000,000 - 5 ’ 000,000)',\n",
    "                                                                'Medio  (USD  500,000 - 1 ’ 000,000)']))) \n",
    "                                   &\n",
    "                                   ((df_todos_marcados['BLACKLIST'] != 'BLACKLIST') & \n",
    "                                   (df_todos_marcados['ya buscados'].isnull()))) \n",
    "                                   |\n",
    "                                   ((df_todos_marcados['ESTADO'] == 'CLB') &\n",
    "                                   (df_todos_marcados['ya buscados'].isnull()))\n",
    "                                  ]\n",
    "df_a_scrapear.to_excel('calificados_clientes.xlsx',  index=False)"
   ]
  },
  {
   "cell_type": "code",
   "execution_count": 8,
   "metadata": {},
   "outputs": [],
   "source": [
    "df_a_scrapear.info()"
   ]
  },
  {
   "cell_type": "code",
   "execution_count": 26,
   "metadata": {},
   "outputs": [
    {
     "name": "stdout",
     "output_type": "stream",
     "text": [
      "<class 'pandas.core.frame.DataFrame'>\n",
      "Int64Index: 996 entries, 0 to 37318\n",
      "Data columns (total 11 columns):\n",
      " #   Column            Non-Null Count  Dtype  \n",
      "---  ------            --------------  -----  \n",
      " 0   DNI_PROSPECTO     996 non-null    object \n",
      " 1   NOMBRE1           603 non-null    object \n",
      " 2   PROSPECTO_ID_FB   996 non-null    int64  \n",
      " 3   PROSPECTO_URL_FB  775 non-null    object \n",
      " 4   PROSPECTO_NOMBRE  996 non-null    object \n",
      " 5   FECHA_NACIMIENTO  773 non-null    object \n",
      " 6   EDAD              773 non-null    float64\n",
      " 7   BLACKLIST         628 non-null    object \n",
      " 8   POTENCIAL         536 non-null    object \n",
      " 9   ESTADO            996 non-null    object \n",
      " 10  OLA               996 non-null    float64\n",
      "dtypes: float64(2), int64(1), object(8)\n",
      "memory usage: 93.4+ KB\n"
     ]
    }
   ],
   "source": [
    "# actualizando archivo de ya scrapeados con las personas que se scrapearán en esta actual ola \n",
    "## y colocando a qué número de ola pertenecen\n",
    "df_scrapeados_actualizado = pd.concat([df_scrapeados, df_a_scrapear])\n",
    "df_scrapeados_actualizado[\"OLA\"] = df_scrapeados_actualizado[\"OLA\"].fillna(numero_de_ola)\n",
    "df_scrapeados_actualizado.drop(['ya buscados'], axis=1, inplace=True)\n",
    "df_scrapeados_actualizado.to_excel('ya_scrapeados.xlsx',  index=False)\n",
    "df_scrapeados_actualizado.info()"
   ]
  },
  {
   "cell_type": "code",
   "execution_count": 17,
   "metadata": {},
   "outputs": [],
   "source": [
    "pd.set_option('display.max_colwidth', None)\n",
    "pd.set_option('display.max_rows', None)"
   ]
  }
 ],
 "metadata": {
  "kernelspec": {
   "display_name": "Python 3",
   "language": "python",
   "name": "python3"
  },
  "language_info": {
   "codemirror_mode": {
    "name": "ipython",
    "version": 3
   },
   "file_extension": ".py",
   "mimetype": "text/x-python",
   "name": "python",
   "nbconvert_exporter": "python",
   "pygments_lexer": "ipython3",
   "version": "3.7.6"
  }
 },
 "nbformat": 4,
 "nbformat_minor": 4
}
